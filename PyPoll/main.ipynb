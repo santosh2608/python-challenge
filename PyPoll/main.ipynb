{
 "cells": [
  {
   "cell_type": "code",
   "execution_count": 26,
   "metadata": {},
   "outputs": [],
   "source": [
    "# Import pandas liberary\n",
    "import pandas as pd"
   ]
  },
  {
   "cell_type": "code",
   "execution_count": 27,
   "metadata": {},
   "outputs": [],
   "source": [
    "# get csv path/file location\n",
    "csv_path = \"../Resources/election_data.csv\""
   ]
  },
  {
   "cell_type": "code",
   "execution_count": 28,
   "metadata": {
    "scrolled": true
   },
   "outputs": [
    {
     "data": {
      "text/html": [
       "<div>\n",
       "<style scoped>\n",
       "    .dataframe tbody tr th:only-of-type {\n",
       "        vertical-align: middle;\n",
       "    }\n",
       "\n",
       "    .dataframe tbody tr th {\n",
       "        vertical-align: top;\n",
       "    }\n",
       "\n",
       "    .dataframe thead th {\n",
       "        text-align: right;\n",
       "    }\n",
       "</style>\n",
       "<table border=\"1\" class=\"dataframe\">\n",
       "  <thead>\n",
       "    <tr style=\"text-align: right;\">\n",
       "      <th></th>\n",
       "      <th>Voter ID</th>\n",
       "      <th>County</th>\n",
       "      <th>Candidate</th>\n",
       "    </tr>\n",
       "  </thead>\n",
       "  <tbody>\n",
       "    <tr>\n",
       "      <th>0</th>\n",
       "      <td>12864552</td>\n",
       "      <td>Marsh</td>\n",
       "      <td>Khan</td>\n",
       "    </tr>\n",
       "    <tr>\n",
       "      <th>1</th>\n",
       "      <td>17444633</td>\n",
       "      <td>Marsh</td>\n",
       "      <td>Correy</td>\n",
       "    </tr>\n",
       "    <tr>\n",
       "      <th>2</th>\n",
       "      <td>19330107</td>\n",
       "      <td>Marsh</td>\n",
       "      <td>Khan</td>\n",
       "    </tr>\n",
       "    <tr>\n",
       "      <th>3</th>\n",
       "      <td>19865775</td>\n",
       "      <td>Queen</td>\n",
       "      <td>Khan</td>\n",
       "    </tr>\n",
       "    <tr>\n",
       "      <th>4</th>\n",
       "      <td>11927875</td>\n",
       "      <td>Marsh</td>\n",
       "      <td>Khan</td>\n",
       "    </tr>\n",
       "  </tbody>\n",
       "</table>\n",
       "</div>"
      ],
      "text/plain": [
       "   Voter ID County Candidate\n",
       "0  12864552  Marsh      Khan\n",
       "1  17444633  Marsh    Correy\n",
       "2  19330107  Marsh      Khan\n",
       "3  19865775  Queen      Khan\n",
       "4  11927875  Marsh      Khan"
      ]
     },
     "execution_count": 28,
     "metadata": {},
     "output_type": "execute_result"
    }
   ],
   "source": [
    "# read csv file \n",
    "election_df = pd.read_csv(csv_path)\n",
    "election_df.head()"
   ]
  },
  {
   "cell_type": "code",
   "execution_count": 29,
   "metadata": {},
   "outputs": [
    {
     "data": {
      "text/plain": [
       "3521001"
      ]
     },
     "execution_count": 29,
     "metadata": {},
     "output_type": "execute_result"
    }
   ],
   "source": [
    "# Get total number of vote cast using len function\n",
    "total_votes = len(election_df)\n",
    "total_votes"
   ]
  },
  {
   "cell_type": "code",
   "execution_count": 30,
   "metadata": {},
   "outputs": [
    {
     "data": {
      "text/plain": [
       "Khan        2218231\n",
       "Correy       704200\n",
       "Li           492940\n",
       "O'Tooley     105630\n",
       "Name: Candidate, dtype: int64"
      ]
     },
     "execution_count": 30,
     "metadata": {},
     "output_type": "execute_result"
    }
   ],
   "source": [
    "# count of candidate received vote\n",
    "candidates_count = election_df[\"Candidate\"].value_counts()\n",
    "candidates_count"
   ]
  },
  {
   "cell_type": "code",
   "execution_count": 31,
   "metadata": {},
   "outputs": [
    {
     "data": {
      "text/plain": [
       "Khan        63.000011\n",
       "Correy      19.999994\n",
       "Li          13.999996\n",
       "O'Tooley     2.999999\n",
       "Name: Candidate, dtype: float64"
      ]
     },
     "execution_count": 31,
     "metadata": {},
     "output_type": "execute_result"
    }
   ],
   "source": [
    "# percentage of vote each candidate won\n",
    "vote_percentage = (candidates_count/total_votes)*100\n",
    "vote_percentage"
   ]
  },
  {
   "cell_type": "code",
   "execution_count": 32,
   "metadata": {},
   "outputs": [
    {
     "data": {
      "text/plain": [
       "'Khan'"
      ]
     },
     "execution_count": 32,
     "metadata": {},
     "output_type": "execute_result"
    }
   ],
   "source": [
    "# Get the winner based on highest vote\n",
    "winner = candidates_count.idxmax()\n",
    "winner"
   ]
  },
  {
   "cell_type": "code",
   "execution_count": 33,
   "metadata": {},
   "outputs": [
    {
     "name": "stdout",
     "output_type": "stream",
     "text": [
      "Election results\n",
      "--------------------\n",
      "Total votes: 3521001\n",
      "--------------------\n",
      "Khan: 63.0% (2218231)\n",
      "Correy: 20.0% (704200)\n",
      "Li: 14.0% (492940)\n",
      "O'Tooley: 3.0% (105630)\n",
      "--------------------\n",
      "winner: Khan\n"
     ]
    }
   ],
   "source": [
    "# print the results\n",
    "print(\"Election results\")\n",
    "\n",
    "print(\"--------------------\")\n",
    "\n",
    "print(\"Total votes: \" + str(total_votes))\n",
    "\n",
    "print(\"--------------------\")\n",
    "\n",
    "print(\"Khan:\" + \" \" + str(round(vote_percentage[0],3)) + \"%\" + \" (\"+str(candidates_count[0])+\")\")\n",
    "      \n",
    "print(\"Correy:\" + \" \" + str(round(vote_percentage[1],3)) + \"%\" + \" (\"+str(candidates_count[1])+\")\")\n",
    "      \n",
    "print(\"Li:\" + \" \" + str(round(vote_percentage[2],3)) + \"%\" + \" (\"+str(candidates_count[2])+\")\")\n",
    "      \n",
    "print(\"O'Tooley:\" + \" \" + str(round(vote_percentage[3],3)) + \"%\" + \" (\"+str(candidates_count[3])+\")\")\n",
    "\n",
    "print(\"--------------------\")\n",
    "      \n",
    "print(\"winner: \" + winner)"
   ]
  },
  {
   "cell_type": "code",
   "execution_count": 39,
   "metadata": {},
   "outputs": [
    {
     "data": {
      "text/plain": [
       "12"
      ]
     },
     "execution_count": 39,
     "metadata": {},
     "output_type": "execute_result"
    }
   ],
   "source": [
    "# Open text file from below location\n",
    "txt_file = open(\"../output/election_data.txt\", \"w\")\n",
    "\n",
    "# Write to text file\n",
    "txt_file.write(\"Election results\")\n",
    "txt_file.write(\"\\n\")\n",
    "txt_file.write(\"--------------------\")\n",
    "txt_file.write(\"\\n\")\n",
    "txt_file.write(\"Total votes: \" + str(total_votes))\n",
    "txt_file.write(\"\\n\")\n",
    "txt_file.write(\"--------------------\")\n",
    "txt_file.write(\"\\n\")\n",
    "txt_file.write(\"Khan:\" + \" \" + str(round(vote_percentage[0],3)) + \"%\" + \" (\"+str(candidates_count[0])+\")\")\n",
    "txt_file.write(\"\\n\")\n",
    "txt_file.write(\"Correy:\" + \" \" + str(round(vote_percentage[1],3)) + \"%\" + \" (\"+str(candidates_count[1])+\")\")\n",
    "txt_file.write(\"\\n\")      \n",
    "txt_file.write(\"Li:\" + \" \" + str(round(vote_percentage[2],3)) + \"%\" + \" (\"+str(candidates_count[2])+\")\")\n",
    "txt_file.write(\"\\n\")\n",
    "txt_file.write(\"O'Tooley:\" + \" \" + str(round(vote_percentage[3],3)) + \"%\" + \" (\"+str(candidates_count[3])+\")\")\n",
    "txt_file.write(\"\\n\")\n",
    "txt_file.write(\"--------------------\")\n",
    "txt_file.write(\"\\n\")\n",
    "txt_file.write(\"winner: \" + winner)"
   ]
  },
  {
   "cell_type": "code",
   "execution_count": null,
   "metadata": {},
   "outputs": [],
   "source": []
  }
 ],
 "metadata": {
  "kernelspec": {
   "display_name": "Python 3",
   "language": "python",
   "name": "python3"
  },
  "language_info": {
   "codemirror_mode": {
    "name": "ipython",
    "version": 3
   },
   "file_extension": ".py",
   "mimetype": "text/x-python",
   "name": "python",
   "nbconvert_exporter": "python",
   "pygments_lexer": "ipython3",
   "version": "3.7.3"
  }
 },
 "nbformat": 4,
 "nbformat_minor": 2
}
